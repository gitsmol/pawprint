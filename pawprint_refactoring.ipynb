{
 "cells": [
  {
   "cell_type": "code",
   "execution_count": 5,
   "metadata": {},
   "outputs": [
    {
     "data": {
      "text/plain": [
       "<module 'pawprint' from '/Users/nme/Tresors/Code/Python/pawprint/pawprint.py'>"
      ]
     },
     "execution_count": 5,
     "metadata": {},
     "output_type": "execute_result"
    }
   ],
   "source": [
    "import pandas as pd\n",
    "# import datetime\n",
    "import plotly.express as px\n",
    "import plotly.graph_objects as go\n",
    "import statsmodels.api as sm\n",
    "import numpy as np\n",
    "from loguru import logger\n",
    "import pawprint\n",
    "import importlib\n",
    "importlib.reload(pawprint)"
   ]
  },
  {
   "cell_type": "code",
   "execution_count": 6,
   "metadata": {},
   "outputs": [
    {
     "name": "stderr",
     "output_type": "stream",
     "text": [
      "/Users/nme/Tresors/Code/Python/pawprint/pawprint.py:85: SettingWithCopyWarning:\n",
      "\n",
      "\n",
      "A value is trying to be set on a copy of a slice from a DataFrame.\n",
      "Try using .loc[row_indexer,col_indexer] = value instead\n",
      "\n",
      "See the caveats in the documentation: https://pandas.pydata.org/pandas-docs/stable/user_guide/indexing.html#returning-a-view-versus-a-copy\n",
      "\n",
      "/Users/nme/Tresors/Code/Python/pawprint/pawprint.py:91: SettingWithCopyWarning:\n",
      "\n",
      "\n",
      "A value is trying to be set on a copy of a slice from a DataFrame.\n",
      "Try using .loc[row_indexer,col_indexer] = value instead\n",
      "\n",
      "See the caveats in the documentation: https://pandas.pydata.org/pandas-docs/stable/user_guide/indexing.html#returning-a-view-versus-a-copy\n",
      "\n",
      "/Users/nme/Tresors/Code/Python/pawprint/pawprint.py:110: SettingWithCopyWarning:\n",
      "\n",
      "\n",
      "A value is trying to be set on a copy of a slice from a DataFrame.\n",
      "Try using .loc[row_indexer,col_indexer] = value instead\n",
      "\n",
      "See the caveats in the documentation: https://pandas.pydata.org/pandas-docs/stable/user_guide/indexing.html#returning-a-view-versus-a-copy\n",
      "\n",
      "/Users/nme/Tresors/Code/Python/pawprint/pawprint.py:79: SettingWithCopyWarning:\n",
      "\n",
      "\n",
      "A value is trying to be set on a copy of a slice from a DataFrame.\n",
      "Try using .loc[row_indexer,col_indexer] = value instead\n",
      "\n",
      "See the caveats in the documentation: https://pandas.pydata.org/pandas-docs/stable/user_guide/indexing.html#returning-a-view-versus-a-copy\n",
      "\n",
      "/Users/nme/Tresors/Code/Python/pawprint/pawprint.py:81: SettingWithCopyWarning:\n",
      "\n",
      "\n",
      "A value is trying to be set on a copy of a slice from a DataFrame.\n",
      "Try using .loc[row_indexer,col_indexer] = value instead\n",
      "\n",
      "See the caveats in the documentation: https://pandas.pydata.org/pandas-docs/stable/user_guide/indexing.html#returning-a-view-versus-a-copy\n",
      "\n",
      "/Users/nme/Tresors/Code/Python/pawprint/pawprint.py:82: SettingWithCopyWarning:\n",
      "\n",
      "\n",
      "A value is trying to be set on a copy of a slice from a DataFrame.\n",
      "Try using .loc[row_indexer,col_indexer] = value instead\n",
      "\n",
      "See the caveats in the documentation: https://pandas.pydata.org/pandas-docs/stable/user_guide/indexing.html#returning-a-view-versus-a-copy\n",
      "\n",
      "/Users/nme/Tresors/Code/Python/pawprint/pawprint.py:102: SettingWithCopyWarning:\n",
      "\n",
      "\n",
      "A value is trying to be set on a copy of a slice from a DataFrame.\n",
      "Try using .loc[row_indexer,col_indexer] = value instead\n",
      "\n",
      "See the caveats in the documentation: https://pandas.pydata.org/pandas-docs/stable/user_guide/indexing.html#returning-a-view-versus-a-copy\n",
      "\n",
      "/Users/nme/Tresors/Code/Python/pawprint/pawprint.py:103: SettingWithCopyWarning:\n",
      "\n",
      "\n",
      "A value is trying to be set on a copy of a slice from a DataFrame.\n",
      "Try using .loc[row_indexer,col_indexer] = value instead\n",
      "\n",
      "See the caveats in the documentation: https://pandas.pydata.org/pandas-docs/stable/user_guide/indexing.html#returning-a-view-versus-a-copy\n",
      "\n"
     ]
    },
    {
     "ename": "ValueError",
     "evalue": "The first argument to the plotly.graph_objs.Scatter \nconstructor must be a dict or \nan instance of :class:`plotly.graph_objs.Scatter`",
     "output_type": "error",
     "traceback": [
      "\u001b[0;31m---------------------------------------------------------------------------\u001b[0m",
      "\u001b[0;31mValueError\u001b[0m                                Traceback (most recent call last)",
      "\u001b[0;32m/var/folders/yp/067dxpm57sq3ml0wrlnvyg600000gn/T/ipykernel_3984/2183858977.py\u001b[0m in \u001b[0;36m<module>\u001b[0;34m\u001b[0m\n\u001b[1;32m     25\u001b[0m \u001b[0msymp_trend\u001b[0m \u001b[0;34m=\u001b[0m \u001b[0mpx\u001b[0m\u001b[0;34m.\u001b[0m\u001b[0mscatter\u001b[0m\u001b[0;34m(\u001b[0m\u001b[0mx\u001b[0m\u001b[0;34m=\u001b[0m\u001b[0mdata\u001b[0m\u001b[0;34m.\u001b[0m\u001b[0mREP_longform\u001b[0m\u001b[0;34m[\u001b[0m\u001b[0;34m'datetime'\u001b[0m\u001b[0;34m]\u001b[0m\u001b[0;34m,\u001b[0m \u001b[0my\u001b[0m\u001b[0;34m=\u001b[0m\u001b[0mdata\u001b[0m\u001b[0;34m.\u001b[0m\u001b[0mREP_longform\u001b[0m\u001b[0;34m[\u001b[0m\u001b[0;34m'rating/amount'\u001b[0m\u001b[0;34m]\u001b[0m\u001b[0;34m,\u001b[0m \u001b[0mtrendline\u001b[0m\u001b[0;34m=\u001b[0m\u001b[0;34m\"rolling\"\u001b[0m\u001b[0;34m,\u001b[0m \u001b[0mtrendline_options\u001b[0m\u001b[0;34m=\u001b[0m\u001b[0;34m{\u001b[0m\u001b[0;34m'window'\u001b[0m\u001b[0;34m:\u001b[0m \u001b[0;36m7\u001b[0m\u001b[0;34m}\u001b[0m\u001b[0;34m)\u001b[0m\u001b[0;34m\u001b[0m\u001b[0;34m\u001b[0m\u001b[0m\n\u001b[1;32m     26\u001b[0m \u001b[0msymp_trend\u001b[0m \u001b[0;34m=\u001b[0m \u001b[0msymp_trend\u001b[0m\u001b[0;34m.\u001b[0m\u001b[0mdata\u001b[0m\u001b[0;34m[\u001b[0m\u001b[0;36m1\u001b[0m\u001b[0;34m]\u001b[0m\u001b[0;34m\u001b[0m\u001b[0;34m\u001b[0m\u001b[0m\n\u001b[0;32m---> 27\u001b[0;31m \u001b[0mfig_measurements\u001b[0m\u001b[0;34m.\u001b[0m\u001b[0madd_trace\u001b[0m\u001b[0;34m(\u001b[0m\u001b[0mgo\u001b[0m\u001b[0;34m.\u001b[0m\u001b[0mScatter\u001b[0m\u001b[0;34m(\u001b[0m\u001b[0msymp_trend\u001b[0m\u001b[0;34m,\u001b[0m \u001b[0mname\u001b[0m\u001b[0;34m=\u001b[0m\u001b[0;34m'Symptoms Trend'\u001b[0m\u001b[0;34m,\u001b[0m \u001b[0mline\u001b[0m\u001b[0;34m=\u001b[0m\u001b[0;34m{\u001b[0m\u001b[0;34m'color'\u001b[0m \u001b[0;34m:\u001b[0m \u001b[0;34m'#fd7776'\u001b[0m\u001b[0;34m}\u001b[0m\u001b[0;34m)\u001b[0m\u001b[0;34m)\u001b[0m\u001b[0;34m\u001b[0m\u001b[0;34m\u001b[0m\u001b[0m\n\u001b[0m\u001b[1;32m     28\u001b[0m \u001b[0;34m\u001b[0m\u001b[0m\n\u001b[1;32m     29\u001b[0m fig_measurements.add_trace(go.Histogram(x=data.REP_longform['datetime'], y=data.REP_longform['rating/amount'],\n",
      "\u001b[0;32m~/.pyenv/versions/3.9.6/lib/python3.9/site-packages/plotly/graph_objs/_scatter.py\u001b[0m in \u001b[0;36m__init__\u001b[0;34m(self, arg, cliponaxis, connectgaps, customdata, customdatasrc, dx, dy, error_x, error_y, fill, fillcolor, groupnorm, hoverinfo, hoverinfosrc, hoverlabel, hoveron, hovertemplate, hovertemplatesrc, hovertext, hovertextsrc, ids, idssrc, legendgroup, legendgrouptitle, legendrank, line, marker, meta, metasrc, mode, name, opacity, orientation, selected, selectedpoints, showlegend, stackgaps, stackgroup, stream, text, textfont, textposition, textpositionsrc, textsrc, texttemplate, texttemplatesrc, uid, uirevision, unselected, visible, x, x0, xaxis, xcalendar, xhoverformat, xperiod, xperiod0, xperiodalignment, xsrc, y, y0, yaxis, ycalendar, yhoverformat, yperiod, yperiod0, yperiodalignment, ysrc, **kwargs)\u001b[0m\n\u001b[1;32m   2993\u001b[0m             \u001b[0marg\u001b[0m \u001b[0;34m=\u001b[0m \u001b[0m_copy\u001b[0m\u001b[0;34m.\u001b[0m\u001b[0mcopy\u001b[0m\u001b[0;34m(\u001b[0m\u001b[0marg\u001b[0m\u001b[0;34m)\u001b[0m\u001b[0;34m\u001b[0m\u001b[0;34m\u001b[0m\u001b[0m\n\u001b[1;32m   2994\u001b[0m         \u001b[0;32melse\u001b[0m\u001b[0;34m:\u001b[0m\u001b[0;34m\u001b[0m\u001b[0;34m\u001b[0m\u001b[0m\n\u001b[0;32m-> 2995\u001b[0;31m             raise ValueError(\n\u001b[0m\u001b[1;32m   2996\u001b[0m                 \"\"\"\\\n\u001b[1;32m   2997\u001b[0m \u001b[0mThe\u001b[0m \u001b[0mfirst\u001b[0m \u001b[0margument\u001b[0m \u001b[0mto\u001b[0m \u001b[0mthe\u001b[0m \u001b[0mplotly\u001b[0m\u001b[0;34m.\u001b[0m\u001b[0mgraph_objs\u001b[0m\u001b[0;34m.\u001b[0m\u001b[0mScatter\u001b[0m\u001b[0;34m\u001b[0m\u001b[0;34m\u001b[0m\u001b[0m\n",
      "\u001b[0;31mValueError\u001b[0m: The first argument to the plotly.graph_objs.Scatter \nconstructor must be a dict or \nan instance of :class:`plotly.graph_objs.Scatter`"
     ]
    }
   ],
   "source": [
    "data = pawprint.BearableData('../bearable-export-19-12-2021.csv')\n",
    "colors = ['#00429d', '#4b568d', '#6c6a7a', '#ff0000', '#fdd249', '#ffa563', '#e06dff']\n",
    "\n",
    "category = 'Symptom'\n",
    "\n",
    "fig_measurements = go.Figure()\n",
    "selection = data.REP_longform.loc[(data.REP_longform['category'] == category)]\n",
    "trace_data = px.scatter(x=selection['datetime'], y=selection['rating/amount'], trendline=\"rolling\", trendline_options={'window': 7}).data[1]\n",
    "# trace_name = f'{category} trend'\n",
    "# fig_measurements.add_trace(go.Scatter(trace_data, name=trace_name, line={'color' : colors[0]}, showlegend=True, line_shape='spline', fill='tozeroy'))\n",
    "\n",
    "\n",
    "# energy_trend = px.scatter(x=data.REP_longform['datetime'], y=data.REP_longform['rating/amount'], trendline=\"rolling\", trendline_options={'window': 15}, ).data[1]\n",
    "# fig_measurements.add_trace(go.Scatter(energy_trend, name='Energy Trend', line={'color' : colors[2]}, showlegend=True, line_shape='spline', fill='tozeroy'))\n",
    "\n",
    "# fig_measurements.add_trace(go.Scatter(x=data.REP_longform['datetime'], y=data.REP_longform['rating/amount'], trendline=\"rolling\", trendline_options={'window': 15}, ))\n",
    "\n",
    "fig_measurements.add_trace(go.Scatter(x=data.REP_longform['datetime'], y=data.REP_longform['rating/amount'],\n",
    "                        mode='lines',\n",
    "                        name='Symptoms',\n",
    "                        line_shape='spline',\n",
    "                        connectgaps=True))\n",
    "\n",
    "# basic (non-)working example of adding trendlines\n",
    "# symp_trend = px.scatter(x=data.REP_longform['datetime'], y=data.REP_longform['rating/amount'], trendline=\"rolling\", trendline_options={'window': 7})\n",
    "# symp_trend = symp_trend.data[1]\n",
    "# fig_measurements.add_trace(go.Scatter(symp_trend, name='Symptoms Trend', line={'color' : '#fd7776'}))\n",
    "\n",
    "fig_measurements.add_trace(go.Histogram(x=data.REP_longform['datetime'], y=data.REP_longform['rating/amount'],\n",
    "                name='Mood',\n",
    "                histfunc='avg',\n",
    "                marker_color=colors[3],\n",
    "                opacity=0.6,\n",
    "                xbins=dict(\n",
    "                        size=604800000), # 1 week in milliseconds\n",
    "                        autobinx=False \n",
    "                ))\n",
    "\n",
    "\n",
    "fig_measurements.update_layout(\n",
    "        width=900,\n",
    "        height=400,\n",
    "        autosize=False,\n",
    "        margin=dict(t=40, b=10, l=10, r=10),\n",
    "        template=\"plotly\",\n",
    "        # barmode='overlay'\n",
    "        )\n",
    "fig_measurements.update_xaxes(\n",
    "      rangeslider_visible = True\n",
    "    )\n",
    "\n",
    "fig_measurements.show()\n",
    "# print(trace_data)\n"
   ]
  },
  {
   "cell_type": "code",
   "execution_count": null,
   "metadata": {},
   "outputs": [],
   "source": [
    "# print(type(data))\n",
    "fig_measurements, fig_factors = pawprint.draw_bearable_fig(data)\n",
    "# fig_measurements.show()"
   ]
  }
 ],
 "metadata": {
  "interpreter": {
   "hash": "ad6cece148a01f0beb359137837fc52512698efa1a5a909b1cc4bc8aa77947d4"
  },
  "kernelspec": {
   "display_name": "Python 3.9.2 64-bit ('3.9.2': pyenv)",
   "language": "python",
   "name": "python3"
  },
  "language_info": {
   "codemirror_mode": {
    "name": "ipython",
    "version": 3
   },
   "file_extension": ".py",
   "mimetype": "text/x-python",
   "name": "python",
   "nbconvert_exporter": "python",
   "pygments_lexer": "ipython3",
   "version": "3.9.6"
  },
  "orig_nbformat": 4
 },
 "nbformat": 4,
 "nbformat_minor": 2
}
